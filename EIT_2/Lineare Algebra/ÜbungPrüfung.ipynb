{
 "cells": [
  {
   "cell_type": "code",
   "execution_count": null,
   "id": "3f419be4",
   "metadata": {},
   "outputs": [
    {
     "name": "stdout",
     "output_type": "stream",
     "text": [
      "rank A: 3\n",
      "rank Ab: 4\n",
      "LGS nicht möglich\n"
     ]
    }
   ],
   "source": [
    "import numpy as np\n",
    "\n",
    "A = np.array([[1,1,-1],\n",
    "              [-2,0,1],\n",
    "              [5,-1,2],\n",
    "              [2,6,-1]])\n",
    "b = np.array([[2],\n",
    "              [-2],\n",
    "              [4],\n",
    "              [5]])\n",
    "\n",
    "Ab = np.hstack((A,b))\n",
    "rankA = np.linalg.matrix_rank(A)\n",
    "rankAb = np.linalg.matrix_rank(Ab)\n",
    "\n",
    "print(\"rank A:\",rankA)\n",
    "print(\"rank Ab:\",rankAb)\n",
    "if rankA == rankAb:\n",
    "    print(\"LGS möglich\")\n",
    "else:\n",
    "    print(\"LGS nicht möglich\")"
   ]
  },
  {
   "cell_type": "code",
   "execution_count": null,
   "id": "889880f6",
   "metadata": {},
   "outputs": [
    {
     "name": "stdout",
     "output_type": "stream",
     "text": [
      "Lösung mit np.linalg.solve für System 1: [ 6. -5.]\n",
      "Lösung mit np.linalg.lstsq für System 1: (array([ 6., -5.]), array([], dtype=float64), np.int32(2), array([4.23606798, 0.23606798]))\n",
      "Lösung mit np.linalg.lstsq für System 2: (array([0.6, 1.2]), array([], dtype=float64), np.int32(1), array([5., 0.]))\n"
     ]
    }
   ],
   "source": [
    "# Matrix A und Vektor b für ein System mit einer eindeutigen Lösung\n",
    "A1 = np.array([[3, 2], [2, 1]])\n",
    "b1 = np.array([8, 7])\n",
    "\n",
    "# Lösung mit np.linalg.solve (eine eindeutige Lösung)\n",
    "x1_solve = np.linalg.solve(A1, b1)\n",
    "# Lösung mit np.linalg.lstsq (auch eindeutige Lösung)\n",
    "x1_lstsq = np.linalg.lstsq(A1, b1, rcond=None)\n",
    "\n",
    "print(\"Lösung mit np.linalg.solve für System 1:\", x1_solve)\n",
    "print(\"Lösung mit np.linalg.lstsq für System 1:\", x1_lstsq)\n",
    "\n",
    "# Matrix A und Vektor b für ein System mit unendlich vielen Lösungen\n",
    "A2 = np.array([[2, 4], [1, 2]])  # Rangdefiziente Matrix\n",
    "b2 = np.array([6, 3])\n",
    "\n",
    "#x2_solve = np.linalg.solve(A2,b2)\n",
    "# Lösung mit np.linalg.lstsq (liefert unendlich viele Lösungen)\n",
    "x2_lstsq = np.linalg.lstsq(A2, b2, rcond=None)\n",
    "\n",
    "#print(\"Lösung mit np.linalg.solve:\", x2_solve)\n",
    "print(\"Lösung mit np.linalg.lstsq für System 2:\", x2_lstsq)\n",
    "\n"
   ]
  },
  {
   "cell_type": "code",
   "execution_count": 3,
   "id": "aba45c3f",
   "metadata": {},
   "outputs": [
    {
     "name": "stdout",
     "output_type": "stream",
     "text": [
      "-3.996802888650562e-15\n",
      "2\n"
     ]
    }
   ],
   "source": [
    "import numpy as np\n",
    "A = np.array([[2,-4,-2],[-5,1,1],[7,-5,-3]])\n",
    "print(np.linalg.det(A))\n",
    "print(np.linalg.matrix_rank(A))"
   ]
  },
  {
   "cell_type": "code",
   "execution_count": null,
   "id": "c51415f7",
   "metadata": {},
   "outputs": [
    {
     "name": "stdout",
     "output_type": "stream",
     "text": [
      "[[ 2 -4 -2]\n",
      " [-5  1  1]\n",
      " [ 7 -5 -3]]\n",
      "[[ 2 -5  7]\n",
      " [-4  1 -5]\n",
      " [-2  1 -3]]\n"
     ]
    }
   ],
   "source": []
  },
  {
   "cell_type": "code",
   "execution_count": null,
   "id": "3e87e06f",
   "metadata": {},
   "outputs": [],
   "source": []
  }
 ],
 "metadata": {
  "kernelspec": {
   "display_name": ".venv",
   "language": "python",
   "name": "python3"
  },
  "language_info": {
   "codemirror_mode": {
    "name": "ipython",
    "version": 3
   },
   "file_extension": ".py",
   "mimetype": "text/x-python",
   "name": "python",
   "nbconvert_exporter": "python",
   "pygments_lexer": "ipython3",
   "version": "3.12.10"
  }
 },
 "nbformat": 4,
 "nbformat_minor": 5
}
