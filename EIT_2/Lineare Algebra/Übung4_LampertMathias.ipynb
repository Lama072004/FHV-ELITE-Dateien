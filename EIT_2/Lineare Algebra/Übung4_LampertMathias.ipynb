{
 "cells": [
  {
   "cell_type": "markdown",
   "id": "02aa52a3-265c-43f2-8685-7fd407bdfe3a",
   "metadata": {},
   "source": [
    "# Übung 4"
   ]
  },
  {
   "cell_type": "markdown",
   "id": "63fe3eb8-b7e2-4497-845f-9e82115e7943",
   "metadata": {},
   "source": [
    "## 1. Rang"
   ]
  },
  {
   "cell_type": "code",
   "execution_count": 3,
   "id": "e6a2dac0-1f86-45e2-9e62-03e439f6a096",
   "metadata": {},
   "outputs": [],
   "source": [
    "import numpy as np\n",
    "import matplotlib.pyplot as plt"
   ]
  },
  {
   "cell_type": "code",
   "execution_count": 4,
   "id": "fa534c3a-bd81-4603-9fe4-a5d0205f48f7",
   "metadata": {},
   "outputs": [
    {
     "name": "stdout",
     "output_type": "stream",
     "text": [
      "Der Rang von A ist: 3\n"
     ]
    }
   ],
   "source": [
    "A = np.array([[1, 0, -1, 1],\n",
    "              [2, 3, 1, 5],\n",
    "              [3, 2, -1, 6],\n",
    "              [0, 5, 5, 5]])\n",
    "\n",
    "rang = np.linalg.matrix_rank(A)\n",
    "print(\"Der Rang von A ist:\", rang)"
   ]
  },
  {
   "cell_type": "markdown",
   "id": "54b58e7b-650c-42a5-a610-80efe491bd95",
   "metadata": {},
   "source": [
    "## 2. Diät"
   ]
  },
  {
   "cell_type": "markdown",
   "id": "9bc6d62e-9f11-4a2b-92d9-2607505824fc",
   "metadata": {},
   "source": [
    "Die Formel für die Cambridge-Diät, eine beliebte Diät in den 1980er Jahren, basiert auf jahrelanger\n",
    "Forschung. Um die gewünschten Mengen und Verhältnisse der Nährstoffe zu erreichen, musste man\n",
    "eine Vielfalt von Lebensmitteln einbeziehen. Jedes Lebensmittel liefert mehrere der erforderlichen\n",
    "Inhaltsstoffe, jedoch nicht in den genau richtigen Anteilen. So war zum Beispiel fettfreie Milch\n",
    "eine wichtige Eiweißquelle, enthielt aber zu viel Kalzium. Daher wurde Sojamehl für einen Teil des\n",
    "Eiweißes verwendet, da Sojamehl wenig Kalzium enthält. Allerdings enthält Sojamehl zu viel Fett, so\n",
    "dass Molke hinzugefügt wurde, da sie im Verhältnis zum Kalzium weniger Fett liefert. Leider enthält\n",
    "die Molke zu viele Kohlenhydrate … Das folgende Beispiel veranschaulicht das Problem in kleinem\n",
    "Maßstab. In der Tabelle Tabelle 1 sind drei der Bestandteile der Diät aufgeführt, zusammen mit den\n",
    "Mengen bestimmter Nährstoffe.\n",
    "\n",
    "PYTHON: Wenn möglich, finden Sie eine Kombination aus fettfreier Milch, Sojamehl und Molke,\n",
    "um die geforderten Mengen an Eiweiß, Kohlenhydraten und Fett zu erhalten.\n"
   ]
  },
  {
   "cell_type": "code",
   "execution_count": 11,
   "id": "19ba25fc-a780-499a-92ba-b03a634ecc54",
   "metadata": {},
   "outputs": [
    {
     "name": "stdout",
     "output_type": "stream",
     "text": [
      "[0.27722318 0.39192086 0.23323088] \n",
      "\n",
      "[27.72231836 39.19208616 23.32308805] \n",
      "\n",
      "Die benötigten Mengen sind:\n",
      "fettfreie Milch: 27.7 g\n",
      "Sojamehl: 39.2 g\n",
      "Molke: 23.3 g\n"
     ]
    }
   ],
   "source": [
    "import numpy as np\n",
    "\n",
    "# Matrix A und Vektor b\n",
    "A = np.array([[36, 51, 13],\n",
    "              [52, 34, 74],\n",
    "              [0, 7, 1.1]])\n",
    "\n",
    "b = np.array([33, 45, 3])\n",
    "\n",
    "# Lösen des Gleichungssystems\n",
    "x = np.linalg.solve(A, b)\n",
    "print(x,\"\\n\")\n",
    "\n",
    "# Umrechnung in Gramm (da die Tabelle pro 100 g angegeben ist)\n",
    "x_grams = x * 100\n",
    "print(x_grams,\"\\n\")\n",
    "# Ausgabe der Lösung in Gramm\n",
    "print(\"Die benötigten Mengen sind:\")\n",
    "print(f\"fettfreie Milch: {x_grams[0]:.1f} g\")\n",
    "print(f\"Sojamehl: {x_grams[1]:.1f} g\")\n",
    "print(f\"Molke: {x_grams[2]:.1f} g\")"
   ]
  },
  {
   "cell_type": "markdown",
   "id": "b98d53b8-276f-46dd-ac20-38670795a170",
   "metadata": {},
   "source": [
    "## Ill-Conditioned Linear System "
   ]
  },
  {
   "cell_type": "code",
   "execution_count": 14,
   "id": "23c82da5-db94-4aaa-b9f8-e3318f046e50",
   "metadata": {},
   "outputs": [
    {
     "name": "stdout",
     "output_type": "stream",
     "text": [
      "Unique solution: [ 1. -1.]\n",
      "Unique solution: [-665.99999998  833.99999998]\n"
     ]
    }
   ],
   "source": [
    "A = np.array([[0.835, 0.667],\n",
    "              [0.333, 0.266]])\n",
    "\n",
    "b1 = np.array([0.168, 0.067])\n",
    "b2 = np.array([0.168, 0.066])\n",
    "\n",
    "Ab1 = np.column_stack((A, b1))\n",
    "Ab2 = np.column_stack((A, b2))\n",
    "# Rang der Koeffizientenmatrix A\n",
    "rank_A = np.linalg.matrix_rank(A)\n",
    "\n",
    "# Rang der erweiterten Koeffizientenmatrix (A|b)\n",
    "rank_Ab1 = np.linalg.matrix_rank(Ab1)\n",
    "rank_Ab2 = np.linalg.matrix_rank(Ab2)\n",
    "\n",
    "if rank_A == rank_Ab1:\n",
    "    if rank_A == A.shape[1]:  # Unique solution\n",
    "        solution = np.linalg.solve(A, b1)\n",
    "        print(\"Unique solution:\", solution)\n",
    "    else:  # Infinitely many solutions\n",
    "        print(\"Infinitely many solutions.\")\n",
    "else:\n",
    "    print(\"No solution. The system is inconsistent.\")\n",
    "\n",
    "if rank_A == rank_Ab2:\n",
    "    if rank_A == A.shape[1]:  # Unique solution\n",
    "        solution = np.linalg.solve(A, b2)\n",
    "        print(\"Unique solution:\", solution)\n",
    "    else:  # Infinitely many solutions\n",
    "        print(\"Infinitely many solutions.\")\n",
    "else:\n",
    "    print(\"No solution. The system is inconsistent.\")\n"
   ]
  },
  {
   "cell_type": "markdown",
   "id": "dbb66e79-11ad-4551-9540-8440d806e477",
   "metadata": {},
   "source": [
    "## Rechnen mit Matrizen"
   ]
  },
  {
   "cell_type": "code",
   "execution_count": 30,
   "id": "017d20b7-10ab-422d-a0b8-9fd7916839fe",
   "metadata": {},
   "outputs": [
    {
     "name": "stdout",
     "output_type": "stream",
     "text": [
      "[[10 15]\n",
      " [12  8]\n",
      " [28 52]] \n",
      "\n",
      "BxA ist nicht wohldefiniert: shapes (3,2) and (3,3) not aligned: 2 (dim 1) != 3 (dim 0)\n",
      "\n",
      "\n",
      "[[ 13 -11  27]\n",
      " [ 30 -45  78]] \n",
      "\n",
      "[[10 31]] \n",
      "\n",
      "[[1137]] \n",
      "\n"
     ]
    }
   ],
   "source": [
    "A = np.array([[1,-2,3],\n",
    "              [0,-5,4],\n",
    "              [4,-3,8]])\n",
    "B = np.array([[1,2],\n",
    "              [0,4],\n",
    "              [3,7]])\n",
    "c = np.array([[1],[2],[3]])\n",
    "\n",
    "AxB = np.dot(A,B)\n",
    "print(AxB,\"\\n\")\n",
    "\n",
    "try:\n",
    "    BxA = np.dot(B, A)\n",
    "    print(BxA)\n",
    "except ValueError as e:\n",
    "    print(\"BxA ist nicht wohldefiniert:\", e)\n",
    "    print(\"\\n\")\n",
    "\n",
    "BT = B.T\n",
    "BTxA = np.dot(BT,A)\n",
    "print(BTxA,\"\\n\")\n",
    "\n",
    "cT = c.T\n",
    "cTxB = np.dot(cT,B)\n",
    "print(cTxB,\"\\n\")\n",
    "\n",
    "cTxBBTAc = np.dot((np.dot(cT,((np.dot(B,BT))+A))),c)\n",
    "print(cTxBBTAc,\"\\n\")"
   ]
  },
  {
   "cell_type": "markdown",
   "id": "10e860c6-17b9-47d8-8f1f-d27625b7aa10",
   "metadata": {},
   "source": [
    "## 5. Adjazenz-Matrix"
   ]
  },
  {
   "cell_type": "code",
   "execution_count": 34,
   "id": "d1ad023f-b50b-451e-8945-240db9027a70",
   "metadata": {},
   "outputs": [
    {
     "name": "stdout",
     "output_type": "stream",
     "text": [
      "Adjazenz-Matrix:\n",
      " [[0 0 1 0 1]\n",
      " [1 0 0 0 1]\n",
      " [0 0 0 1 1]\n",
      " [0 1 0 0 1]\n",
      " [1 1 1 1 0]]\n"
     ]
    }
   ],
   "source": [
    "Flugmatrix=np.array([[0,0,1,0,1],\n",
    "                    [1,0,0,0,1],\n",
    "                    [0,0,0,1,1],\n",
    "                    [0,1,0,0,1],\n",
    "                    [1,1,1,1,0]])\n",
    "\n",
    "print(\"Adjazenz-Matrix:\\n\",Flugmatrix)"
   ]
  },
  {
   "cell_type": "code",
   "execution_count": 35,
   "id": "4230ac24-8f82-4630-9ca1-ab06acdef756",
   "metadata": {},
   "outputs": [
    {
     "name": "stdout",
     "output_type": "stream",
     "text": [
      "\n",
      "C^2 (genau ein Umstieg):\n",
      "[[1 1 1 2 1]\n",
      " [1 1 2 1 1]\n",
      " [1 2 1 1 1]\n",
      " [2 1 1 1 1]\n",
      " [1 1 1 1 4]]\n",
      "\n",
      "C^3 (genau zwei Umstiege):\n",
      "[[2 3 2 2 5]\n",
      " [2 2 2 3 5]\n",
      " [3 2 2 2 5]\n",
      " [2 2 3 2 5]\n",
      " [5 5 5 5 4]]\n",
      "\n",
      "C + C^2 + C^3 (maximal zwei Umstiege):\n",
      "[[3 4 4 4 7]\n",
      " [4 3 4 4 7]\n",
      " [4 4 3 4 7]\n",
      " [4 4 4 3 7]\n",
      " [7 7 7 7 8]]\n"
     ]
    }
   ],
   "source": [
    "# 1. Berechnung von C^2 (genau ein Umstieg)\n",
    "C_squared = np.linalg.matrix_power(Flugmatrix, 2)\n",
    "print(\"\\nC^2 (genau ein Umstieg):\")\n",
    "print(C_squared)\n",
    "\n",
    "# 2. Berechnung von C^3 (genau zwei Umstiege)\n",
    "C_cubed = np.linalg.matrix_power(Flugmatrix, 3)\n",
    "print(\"\\nC^3 (genau zwei Umstiege):\")\n",
    "print(C_cubed)\n",
    "\n",
    "# 3. Berechnung von C + C^2 + C^3 (maximal zwei Umstiege)\n",
    "C_total = Flugmatrix + C_squared + C_cubed\n",
    "print(\"\\nC + C^2 + C^3 (maximal zwei Umstiege):\")\n",
    "print(C_total)"
   ]
  },
  {
   "cell_type": "code",
   "execution_count": null,
   "id": "2af00a09-af31-4200-9925-8769b29edeb8",
   "metadata": {},
   "outputs": [],
   "source": []
  }
 ],
 "metadata": {
  "kernelspec": {
   "display_name": "Python 3 (ipykernel)",
   "language": "python",
   "name": "python3"
  },
  "language_info": {
   "codemirror_mode": {
    "name": "ipython",
    "version": 3
   },
   "file_extension": ".py",
   "mimetype": "text/x-python",
   "name": "python",
   "nbconvert_exporter": "python",
   "pygments_lexer": "ipython3",
   "version": "3.11.11"
  }
 },
 "nbformat": 4,
 "nbformat_minor": 5
}
