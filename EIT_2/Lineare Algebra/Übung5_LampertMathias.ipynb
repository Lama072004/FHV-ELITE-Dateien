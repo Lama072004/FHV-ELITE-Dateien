{
 "cells": [
  {
   "cell_type": "markdown",
   "id": "1b4df216-3c73-4328-a346-a850240e5889",
   "metadata": {},
   "source": [
    "# Übung 5"
   ]
  },
  {
   "cell_type": "markdown",
   "id": "e55cf75f-b910-4f84-b72d-d94ada5a19c2",
   "metadata": {},
   "source": [
    "## 1. Quadratisches LGS"
   ]
  },
  {
   "cell_type": "code",
   "execution_count": 2,
   "id": "ed8961cc-7ed2-42c8-a27e-fa6acbd3f211",
   "metadata": {},
   "outputs": [],
   "source": [
    "import numpy as np\n",
    "import matplotlib.pyplot as plt"
   ]
  },
  {
   "cell_type": "code",
   "execution_count": 3,
   "id": "b00b7ecf-2d43-46b2-9003-107f91232ae6",
   "metadata": {},
   "outputs": [
    {
     "name": "stdout",
     "output_type": "stream",
     "text": [
      "Determinante der Koeffizientenmatrix A: 0.0\n",
      "Das LGS hat unendlich viele Lösungen (Determinante = 0).\n"
     ]
    }
   ],
   "source": [
    "A = np.array([\n",
    "    [2, -5, 8],\n",
    "    [-2, -7, 1],\n",
    "    [4, 2, 7]\n",
    "])\n",
    "\n",
    "# Berechnung der Determinante mit np.linalg.det\n",
    "det_A = np.linalg.det(A)\n",
    "\n",
    "# Ausgabe der Determinante\n",
    "print(\"Determinante der Koeffizientenmatrix A:\", det_A)\n",
    "\n",
    "# Überprüfung der Lösbarkeit\n",
    "if np.isclose(det_A, 0):\n",
    "    print(\"Das LGS hat unendlich viele Lösungen (Determinante = 0).\")\n",
    "else:\n",
    "    print(\"Das LGS hat eine eindeutige Lösung (Determinante ≠ 0).\")"
   ]
  },
  {
   "cell_type": "markdown",
   "id": "5af54edc-24f4-47df-8ebd-c37450297ee0",
   "metadata": {},
   "source": [
    "## 4. Projektion"
   ]
  },
  {
   "cell_type": "code",
   "execution_count": 7,
   "id": "4b17e4ef-e86f-4658-b39f-71fbba54c702",
   "metadata": {},
   "outputs": [
    {
     "name": "stdout",
     "output_type": "stream",
     "text": [
      "Orthogonale Projektion p: [-0.6  0.8]\n"
     ]
    }
   ],
   "source": [
    "# Vektoren definieren\n",
    "a = np.array([1, 2])\n",
    "v = np.array([-3, 4])\n",
    "\n",
    "# Projektion berechnen\n",
    "skalarprodukt = np.dot(a, v)\n",
    "v_norm_squared = np.dot(v, v)\n",
    "projektion = (skalarprodukt / v_norm_squared) * v\n",
    "\n",
    "print(\"Orthogonale Projektion p:\", projektion)"
   ]
  },
  {
   "cell_type": "markdown",
   "id": "b9ef7e1c-e18e-43b9-ab4c-6fd618187f23",
   "metadata": {},
   "source": [
    "## 5. PV-Ertrag"
   ]
  },
  {
   "cell_type": "code",
   "execution_count": 14,
   "id": "677e98ad-9412-42d8-92a6-c046e3c8204f",
   "metadata": {},
   "outputs": [
    {
     "name": "stdout",
     "output_type": "stream",
     "text": [
      "Orthogonale Projektion von s auf n:\n",
      "[-4.54545455  4.54545455 -6.36363636]\n",
      "\n",
      "Anteil der aufgenommenen Strahlungsleistung: 0.8058 (80.58%)\n",
      "\n",
      "Effektiver Winkel zwischen n und s: 36.31 Grad\n",
      "cos(φ): 0.8058\n"
     ]
    }
   ],
   "source": [
    "# Eingangsdaten\n",
    "n = np.array([5, -5, 7])  # Normalenvektor der PV-Module\n",
    "s = np.array([-10, 1, -5])  # Sonnenstrahlungsvektor\n",
    "\n",
    "# 1. Orthogonale Projektion berechnen\n",
    "s_dot_n = np.dot(s, n)\n",
    "n_dot_n = np.dot(n, n)\n",
    "s_proj = (s_dot_n / n_dot_n) * n\n",
    "\n",
    "# 2. Leistungsanteil berechnen (immer positiv)\n",
    "norm_s_proj = np.linalg.norm(s_proj)\n",
    "norm_s = np.linalg.norm(s)\n",
    "leistungsanteil = norm_s_proj / norm_s  # = |cos(φ)|\n",
    "\n",
    "# 3. Winkelberechnung (immer zwischen 0° und 90°)\n",
    "cos_phi = abs(s_dot_n) / (norm_s * np.linalg.norm(n))  # Betrag des Cosinus\n",
    "phi_rad = np.arccos(cos_phi)\n",
    "phi_deg = np.degrees(phi_rad)\n",
    "\n",
    "# Ausgabe der Ergebnisse\n",
    "print(\"Orthogonale Projektion von s auf n:\")\n",
    "print(s_proj)\n",
    "print(\"\\nAnteil der aufgenommenen Strahlungsleistung:\", round(leistungsanteil, 4), \n",
    "      f\"({round(leistungsanteil*100, 2)}%)\")\n",
    "print(\"\\nEffektiver Winkel zwischen n und s:\", round(phi_deg, 2), \"Grad\")\n",
    "print(\"cos(φ):\", round(cos_phi, 4))"
   ]
  },
  {
   "cell_type": "markdown",
   "id": "df2596d9-cef6-4e06-a4cf-c2be87774d4f",
   "metadata": {},
   "source": [
    "Der Kosinus des Winkels φ zwischen dem Normalenvektor der PV-Module (n) und dem Sonnenstrahlungsvektor (s) bestimmt direkt, wie viel der einfallenden Strahlungsleistung tatsächlich von den Modulen genutzt wird."
   ]
  },
  {
   "cell_type": "markdown",
   "id": "42c44963-a851-4768-86ce-5ecdc6cbadbe",
   "metadata": {},
   "source": [
    "## 6. Leontief Modell"
   ]
  },
  {
   "cell_type": "markdown",
   "id": "4b0d5ca7-45bb-4d56-bfea-2ea4b5db3b00",
   "metadata": {},
   "source": [
    "### 1."
   ]
  },
  {
   "cell_type": "code",
   "execution_count": 15,
   "id": "1e987336-d1c8-4000-bfd2-9e01df6c7a93",
   "metadata": {},
   "outputs": [
    {
     "name": "stdout",
     "output_type": "stream",
     "text": [
      "Produktionsplan p:\n",
      "[31.72 29.68 31.18]\n"
     ]
    }
   ],
   "source": [
    "import numpy as np\n",
    "\n",
    "A = np.array([\n",
    "    [0.2, 0.3, 0.4],\n",
    "    [0.4, 0.4, 0.1],\n",
    "    [0.5, 0.1, 0.3]\n",
    "])\n",
    "\n",
    "d = np.array([4, 2, 3])\n",
    "I = np.eye(3)  # Einheitsmatrix\n",
    "\n",
    "# Technologiematrix berechnen\n",
    "I_minus_A = I - A\n",
    "\n",
    "# Produktionsplan p lösen\n",
    "p = np.linalg.solve(I_minus_A, d)\n",
    "\n",
    "print(\"Produktionsplan p:\")\n",
    "print(np.round(p, 2))"
   ]
  },
  {
   "cell_type": "markdown",
   "id": "7e087d22-f25f-43c9-b9dc-84b28cfc73ca",
   "metadata": {},
   "source": [
    "### 2."
   ]
  },
  {
   "cell_type": "code",
   "execution_count": 16,
   "id": "ec5445fa-f5d4-4b03-9428-dc813f596f12",
   "metadata": {},
   "outputs": [
    {
     "name": "stdout",
     "output_type": "stream",
     "text": [
      "Inverse (I - A)^{-1}:\n",
      "[[4.41 2.69 2.9 ]\n",
      " [3.55 3.87 2.58]\n",
      " [3.66 2.47 3.87]]\n",
      "\n",
      "Ist (I - A)^{-1} nicht-negativ? True\n"
     ]
    }
   ],
   "source": [
    "inv_I_minus_A = np.linalg.inv(I_minus_A)\n",
    "\n",
    "print(\"Inverse (I - A)^{-1}:\")\n",
    "print(np.round(inv_I_minus_A, 2))\n",
    "\n",
    "# Prüfe auf Nicht-Negativität\n",
    "is_non_negative = np.all(inv_I_minus_A >= 0)\n",
    "print(\"\\nIst (I - A)^{-1} nicht-negativ?\", is_non_negative)"
   ]
  },
  {
   "cell_type": "markdown",
   "id": "1cf7221f-690e-4dd2-bc8f-8e40a276c9e8",
   "metadata": {},
   "source": [
    "### 3."
   ]
  },
  {
   "cell_type": "code",
   "execution_count": 17,
   "id": "82383f00-503a-4504-b944-de7de85961ee",
   "metadata": {},
   "outputs": [
    {
     "name": "stdout",
     "output_type": "stream",
     "text": [
      "Produktionsplan mit B: [-15.21  -8.09  -7.73]\n",
      "\n",
      "Inverse (I - B)^{-1}:\n",
      "[[-2.11 -1.29 -1.39]\n",
      " [-1.7   0.67 -0.88]\n",
      " [-1.75 -0.82  0.31]]\n"
     ]
    }
   ],
   "source": [
    "B = np.array([\n",
    "    [0.9, 0.3, 0.4],  # Chemieverbrauch stark erhöht\n",
    "    [0.4, 0.4, 0.1],\n",
    "    [0.5, 0.1, 0.3]\n",
    "])\n",
    "\n",
    "I_minus_B = I - B\n",
    "try:\n",
    "    p_new = np.linalg.solve(I_minus_B, d)\n",
    "    print(\"Produktionsplan mit B:\", np.round(p_new, 2))\n",
    "except np.linalg.LinAlgError:\n",
    "    print(\"Matrix (I - B) ist singulär (nicht invertierbar).\")\n",
    "\n",
    "# Alternative: Berechne (I - B)^{-1} (falls möglich)\n",
    "try:\n",
    "    inv_I_minus_B = np.linalg.inv(I_minus_B)\n",
    "    print(\"\\nInverse (I - B)^{-1}:\")\n",
    "    print(np.round(inv_I_minus_B, 2))\n",
    "except:\n",
    "    print(\"Inverse existiert nicht.\")"
   ]
  },
  {
   "cell_type": "code",
   "execution_count": null,
   "id": "fee9a41e-317e-40ed-bb88-6b4d21d4bb95",
   "metadata": {},
   "outputs": [],
   "source": []
  }
 ],
 "metadata": {
  "kernelspec": {
   "display_name": "Python 3 (ipykernel)",
   "language": "python",
   "name": "python3"
  },
  "language_info": {
   "codemirror_mode": {
    "name": "ipython",
    "version": 3
   },
   "file_extension": ".py",
   "mimetype": "text/x-python",
   "name": "python",
   "nbconvert_exporter": "python",
   "pygments_lexer": "ipython3",
   "version": "3.11.11"
  }
 },
 "nbformat": 4,
 "nbformat_minor": 5
}
