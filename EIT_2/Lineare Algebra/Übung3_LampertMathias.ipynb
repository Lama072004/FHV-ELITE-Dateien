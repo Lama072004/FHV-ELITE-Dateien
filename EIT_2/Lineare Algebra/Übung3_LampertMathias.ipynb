{
 "cells": [
  {
   "cell_type": "markdown",
   "id": "4c39361e-9787-4617-8e73-3e4afaa889fa",
   "metadata": {},
   "source": [
    "# Übung 3"
   ]
  },
  {
   "cell_type": "markdown",
   "id": "5dd02c8d-017e-4ad4-ad96-f36e28ec0bcf",
   "metadata": {},
   "source": [
    "## 2. Gausches Eliminationsverfahren"
   ]
  },
  {
   "cell_type": "code",
   "execution_count": 19,
   "id": "7b6418d9-bf87-4d23-9b31-bbb912c2890c",
   "metadata": {},
   "outputs": [
    {
     "name": "stdout",
     "output_type": "stream",
     "text": [
      "Rang der Koeffizientenmatrix A: 2\n",
      "Rang der erweiterten Koeffizientenmatrix (A|b): 2\n",
      "Nullraum der Matrix A:\n",
      "[ 0.86193422 -0.30421208 -0.4056161 ]\n",
      "\n",
      "Exakte Lösung (skaliert):\n",
      "[-17.   6.   8.]\n"
     ]
    }
   ],
   "source": [
    "import numpy as np\n",
    "\n",
    "# 1.\n",
    "# Koeffizientenmatrix\n",
    "A = np.array([[2, -5, 8],\n",
    "              [-2, -7, 1],\n",
    "              [4, 2, 7]])\n",
    "\n",
    "b = np.array([0, 0, 0])\n",
    "\n",
    "# Erweiterte Koeffizientenmatrix (A|b)\n",
    "A_augmented = np.column_stack((A, b))\n",
    "\n",
    "# Rang der Koeffizientenmatrix A\n",
    "rank_A = np.linalg.matrix_rank(A)\n",
    "\n",
    "# Rang der erweiterten Koeffizientenmatrix (A|b)\n",
    "rank_A_augmented = np.linalg.matrix_rank(A_augmented)\n",
    "\n",
    "# Ausgabe der Ränge\n",
    "print(\"Rang der Koeffizientenmatrix A:\", rank_A)\n",
    "print(\"Rang der erweiterten Koeffizientenmatrix (A|b):\", rank_A_augmented)\n",
    "\n",
    "# 2.\n",
    "# Berechnung des Nullraums\n",
    "U, S, Vh = np.linalg.svd(A)\n",
    "null_space_vector = Vh[-1, :]\n",
    "\n",
    "# Skalierung des Vektors, um ganzzahlige Werte zu erhalten\n",
    "scaling_factor = null_space_vector[0] / -17\n",
    "exact_solution = null_space_vector / scaling_factor\n",
    "\n",
    "print(\"Nullraum der Matrix A:\")\n",
    "print(null_space_vector)\n",
    "print(\"\\nExakte Lösung (skaliert):\")\n",
    "print(exact_solution)"
   ]
  },
  {
   "cell_type": "markdown",
   "id": "19fcd21d-1c41-4d6c-8fcf-fd5c4f0edc4c",
   "metadata": {},
   "source": [
    "## GEV und Python"
   ]
  },
  {
   "cell_type": "code",
   "execution_count": 21,
   "id": "2017d37f-37b9-4da6-95ad-c87d5a8c5efc",
   "metadata": {},
   "outputs": [
    {
     "name": "stdout",
     "output_type": "stream",
     "text": [
      "Beispiel A:\n",
      "Eindeutige Lösung: [1. 0. 0.]\n",
      "\n",
      "Beispiel B:\n",
      "Keine Lösung. Das System ist inkonsistent.\n",
      "\n",
      "Beispiel C:\n",
      "Unendlich viele Lösungen.\n",
      "Allgemeine Lösung (Vielfache):\n",
      "x = [0.57735027 0.57735027 0.57735027] · t\n"
     ]
    }
   ],
   "source": [
    "import numpy as np\n",
    "\n",
    "def solve_system(A, b):\n",
    "    # Rang der Koeffizientenmatrix A\n",
    "    rank_A = np.linalg.matrix_rank(A)\n",
    "    \n",
    "    # Rang der erweiterten Koeffizientenmatrix (A|b)\n",
    "    A_augmented = np.column_stack((A, b))\n",
    "    rank_augmented = np.linalg.matrix_rank(A_augmented)\n",
    "    \n",
    "    # Überprüfung der Lösungsstruktur\n",
    "    if rank_A == rank_augmented:\n",
    "        if rank_A == A.shape[1]:  # Eindeutige Lösung\n",
    "            solution = np.linalg.solve(A, b)\n",
    "            print(\"Eindeutige Lösung:\", solution)\n",
    "        else:  # Unendlich viele Lösungen\n",
    "            print(\"Unendlich viele Lösungen.\")\n",
    "            # Berechnung der allgemeinen Lösung (Vielfache)\n",
    "            null_space = null_space_basis(A)\n",
    "            print(\"Allgemeine Lösung (Vielfache):\")\n",
    "            print(\"x =\", null_space, \"· t\")\n",
    "    else:\n",
    "        print(\"Keine Lösung. Das System ist inkonsistent.\")\n",
    "\n",
    "def null_space_basis(A):\n",
    "    # Berechnung des Nullraums mit SVD\n",
    "    U, S, Vh = np.linalg.svd(A)\n",
    "    # Der Nullraum ist der letzte Spaltenvektor von Vh, wenn der entsprechende Singulärwert null ist\n",
    "    null_space_vector = Vh[-1, :]\n",
    "    return null_space_vector\n",
    "\n",
    "# Beispiel A\n",
    "A_A = np.array([\n",
    "    [1, 1, 1],\n",
    "    [1, 2, 2],\n",
    "    [1, 2, 3]\n",
    "])\n",
    "b_A = np.array([1, 1, 1])\n",
    "\n",
    "print(\"Beispiel A:\")\n",
    "solve_system(A_A, b_A)\n",
    "\n",
    "# Beispiel B\n",
    "A_B = np.array([\n",
    "    [-1, 3, -2],\n",
    "    [-1, 4, -3],\n",
    "    [-1, 5, -4]\n",
    "])\n",
    "b_B = np.array([1, 0, 0])\n",
    "\n",
    "print(\"\\nBeispiel B:\")\n",
    "solve_system(A_B, b_B)\n",
    "\n",
    "# Beispiel C\n",
    "A_C = np.array([\n",
    "    [-1, 3, -2],\n",
    "    [-1, 4, -3],\n",
    "    [-1, 5, -4]\n",
    "])\n",
    "b_C = np.array([4, 5, 6])\n",
    "\n",
    "print(\"\\nBeispiel C:\")\n",
    "solve_system(A_C, b_C)"
   ]
  },
  {
   "cell_type": "markdown",
   "id": "742af799-c29e-4685-a310-c35e342394d9",
   "metadata": {},
   "source": [
    "## 4. Existenz und Eindeutigkeit"
   ]
  },
  {
   "cell_type": "code",
   "execution_count": 22,
   "id": "5a230d2e-f3c6-4a3e-8e6a-13cf4c129b5a",
   "metadata": {},
   "outputs": [
    {
     "name": "stdout",
     "output_type": "stream",
     "text": [
      "Das System hat nicht für alle Vektoren b eine eindeutige Lösung.\n"
     ]
    }
   ],
   "source": [
    "import numpy as np\n",
    "\n",
    "# Koeffizientenmatrix A\n",
    "A = np.array([\n",
    "    [2, -4, -2],\n",
    "    [-5, 1, 1],\n",
    "    [7, -5, -3]\n",
    "])\n",
    "\n",
    "# Rang der Koeffizientenmatrix A\n",
    "rank_A = np.linalg.matrix_rank(A)\n",
    "\n",
    "# Anzahl der Variablen\n",
    "num_variables = A.shape[1]\n",
    "\n",
    "# Überprüfung, ob der Rang von A gleich der Anzahl der Variablen ist\n",
    "if rank_A == num_variables:\n",
    "    print(\"Das System hat für alle Vektoren b eine eindeutige Lösung.\")\n",
    "else:\n",
    "    print(\"Das System hat nicht für alle Vektoren b eine eindeutige Lösung.\")\n"
   ]
  },
  {
   "cell_type": "markdown",
   "id": "e2a8de79-34e0-4232-b9fb-7e9cc39c22c9",
   "metadata": {},
   "source": [
    "Der Rang der Koeffizientenmatrix A ist 2, während die Anzahl der Variablen 3 ist. Daher hat das lineare Gleichungssystem nicht für alle Vektoren b eine eindeutige Lösung."
   ]
  },
  {
   "cell_type": "markdown",
   "id": "042d455a-3235-4e91-828a-b334e630fea6",
   "metadata": {},
   "source": [
    "## 5. Parabel durch 3 Punkte"
   ]
  },
  {
   "cell_type": "code",
   "execution_count": 23,
   "id": "99240df9-f1fa-4bcc-b164-f526c0191947",
   "metadata": {},
   "outputs": [
    {
     "name": "stdout",
     "output_type": "stream",
     "text": [
      "Koeffizienten der Parabel:\n",
      "a = -3.0, b = 5.5, c = -1.5\n"
     ]
    },
    {
     "data": {
      "image/png": "[encoded data removed]",
      "text/plain": [
       "<Figure size 640x480 with 1 Axes>"
      ]
     },
     "metadata": {},
     "output_type": "display_data"
    }
   ],
   "source": [
    "import numpy as np\n",
    "import matplotlib.pyplot as plt\n",
    "\n",
    "# Koeffizientenmatrix A\n",
    "A = np.array([\n",
    "    [1, 1, 1],\n",
    "    [1, 2, 4],\n",
    "    [1, 3, 9]\n",
    "])\n",
    "\n",
    "# Rechte Seite des Gleichungssystems (b)\n",
    "b = np.array([1, 2, 0])\n",
    "\n",
    "# Lösen des LGS\n",
    "coefficients = np.linalg.solve(A, b)\n",
    "a, b, c = coefficients\n",
    "\n",
    "print(\"Koeffizienten der Parabel:\")\n",
    "print(f\"a = {a}, b = {b}, c = {c}\")\n",
    "\n",
    "# Grafische Darstellung der Parabel\n",
    "x_values = np.linspace(0, 4, 100)\n",
    "y_values = a + b * x_values + c * x_values**2\n",
    "\n",
    "plt.plot(x_values, y_values, label=f\"y(x) = {a:.2f} + {b:.2f}x + {c:.2f}x²\")\n",
    "plt.scatter([1, 2, 3], [1, 2, 0], color='red', label='Gegebene Punkte')\n",
    "plt.xlabel('x')\n",
    "plt.ylabel('y')\n",
    "plt.title('Parabel durch drei Punkte')\n",
    "plt.legend()\n",
    "plt.grid()\n",
    "plt.show()"
   ]
  },
  {
   "cell_type": "code",
   "execution_count": null,
   "id": "f6adce8a-dc0c-47ab-9e49-66fa2c92b36a",
   "metadata": {},
   "outputs": [],
   "source": []
  }
 ],
 "metadata": {
  "kernelspec": {
   "display_name": "Python 3 (ipykernel)",
   "language": "python",
   "name": "python3"
  },
  "language_info": {
   "codemirror_mode": {
    "name": "ipython",
    "version": 3
   },
   "file_extension": ".py",
   "mimetype": "text/x-python",
   "name": "python",
   "nbconvert_exporter": "python",
   "pygments_lexer": "ipython3",
   "version": "3.11.11"
  }
 },
 "nbformat": 4,
 "nbformat_minor": 5
}
